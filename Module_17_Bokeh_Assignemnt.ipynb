{
  "nbformat": 4,
  "nbformat_minor": 0,
  "metadata": {
    "colab": {
      "provenance": []
    },
    "kernelspec": {
      "name": "python3",
      "display_name": "Python 3"
    },
    "language_info": {
      "name": "python"
    }
  },
  "cells": [
    {
      "cell_type": "code",
      "execution_count": null,
      "metadata": {
        "id": "ZYZWU3O6Mu8E"
      },
      "outputs": [],
      "source": [
        "Q1. How can you create a Bokeh plot using Python code?\n"
      ]
    },
    {
      "cell_type": "code",
      "source": [
        "from bokeh.plotting import figure, show\n",
        "from bokeh.io import output_notebook\n",
        "\n",
        "# Prepare data\n",
        "x = [1, 2, 3, 4, 5]\n",
        "y = [6, 7, 2, 4, 5]\n",
        "\n",
        "# Create a figure\n",
        "p = figure(title=\"Simple Line Plot\", x_axis_label='x', y_axis_label='y')\n",
        "\n",
        "# Add a line glyph\n",
        "p.line(x, y, legend_label=\"Line\", line_width=2)\n",
        "\n",
        "# Customize plot\n",
        "p.title.text_color = \"blue\"\n",
        "p.title.text_font_size = \"16px\"\n",
        "\n",
        "# Display plot in notebook\n",
        "output_notebook()\n",
        "show(p)"
      ],
      "metadata": {
        "id": "alvjVUgxNAnr"
      },
      "execution_count": null,
      "outputs": []
    },
    {
      "cell_type": "markdown",
      "source": [
        "Q2. What are glyphs in Bokeh, and how can you add them to a Bokeh plot? Explain with an example."
      ],
      "metadata": {
        "id": "SwV0vew5NBwX"
      }
    },
    {
      "cell_type": "markdown",
      "source": [
        "\n",
        "In Bokeh, glyphs are visual markers that represent data points on a plot. They can be various shapes such as circles, squares, lines, etc., and they are added to a plot to visualize the data.\n",
        "\n",
        "You can add glyphs to a Bokeh plot using methods provided by the figure object. Some of the commonly used glyph methods include circle(), square(), line(), rect(), etc."
      ],
      "metadata": {
        "id": "GqHd3Fx_NITI"
      }
    },
    {
      "cell_type": "markdown",
      "source": [
        "Q3. How can you customize the appearance of a Bokeh plot, including the axes, title, and legend?"
      ],
      "metadata": {
        "id": "ZhIELyAXNM5r"
      }
    },
    {
      "cell_type": "markdown",
      "source": [
        "\n",
        "You can customize the appearance of a Bokeh plot, including the axes, title, and legend, by setting various attributes of the figure object and its components."
      ],
      "metadata": {
        "id": "Fb059VWrNS2x"
      }
    },
    {
      "cell_type": "markdown",
      "source": [
        "Q4. What is a Bokeh server, and how can you use it to create interactive plots that can be updated in\n",
        "real time?"
      ],
      "metadata": {
        "id": "26hDgtfCNcy-"
      }
    },
    {
      "cell_type": "markdown",
      "source": [
        "Bokeh server works by maintaining a WebSocket connection between the client's web browser and the server. This connection allows for bidirectional communication, enabling the server to push updates to the client and vice versa. This architecture enables reactive programming, where changes made on the client side can trigger updates on the server side, and vice versa."
      ],
      "metadata": {
        "id": "L17H4e64NeVA"
      }
    },
    {
      "cell_type": "markdown",
      "source": [
        "Q5. How can you embed a Bokeh plot into a web page or dashboard using Flask or Django?"
      ],
      "metadata": {
        "id": "0Cbql0fkNh0Y"
      }
    },
    {
      "cell_type": "code",
      "source": [
        "from flask import Flask, send_file\n",
        "from bokeh.plotting import figure, output_file, save\n",
        "\n",
        "app = Flask(__name__)\n",
        "\n",
        "@app.route('/')\n",
        "def index():\n",
        "    # Create a Bokeh plot\n",
        "    plot = figure(title=\"Embedded Bokeh Plot\", x_axis_label='x', y_axis_label='y')\n",
        "    plot.circle([1, 2, 3], [4, 5, 6], size=10)\n",
        "\n",
        "    # Save the plot as an HTML file\n",
        "    output_file(\"bokeh_plot.html\")\n",
        "    save(plot)\n",
        "\n",
        "    # Serve the HTML file\n",
        "    return send_file(\"bokeh_plot.html\")\n",
        "\n",
        "if __name__ == '__main__':\n",
        "    app.run(debug=True)"
      ],
      "metadata": {
        "id": "zZlv3IMeNw_z"
      },
      "execution_count": null,
      "outputs": []
    }
  ]
}